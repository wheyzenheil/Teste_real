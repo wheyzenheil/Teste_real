{
  "nbformat": 4,
  "nbformat_minor": 0,
  "metadata": {
    "colab": {
      "name": "Robotica_aplicada.ipynb",
      "provenance": [],
      "authorship_tag": "ABX9TyOpS9ASx8aXI2X99JwZvSbT",
      "include_colab_link": true
    },
    "kernelspec": {
      "name": "python3",
      "display_name": "Python 3"
    },
    "language_info": {
      "name": "python"
    }
  },
  "cells": [
    {
      "cell_type": "markdown",
      "metadata": {
        "id": "view-in-github",
        "colab_type": "text"
      },
      "source": [
        "<a href=\"https://colab.research.google.com/github/wheyzenheil/Teste_real/blob/main/Robotica_aplicada.ipynb\" target=\"_parent\"><img src=\"https://colab.research.google.com/assets/colab-badge.svg\" alt=\"Open In Colab\"/></a>"
      ]
    },
    {
      "cell_type": "markdown",
      "metadata": {
        "id": "vMx-qmWGX-Gf"
      },
      "source": [
        "## Teste_real_01"
      ]
    },
    {
      "cell_type": "code",
      "metadata": {
        "colab": {
          "base_uri": "https://localhost:8080/"
        },
        "id": "gYFnJWCAXxmq",
        "outputId": "40ecf00a-a73a-4bbf-8997-d50973707342"
      },
      "source": [
        "lado = int(input(\"Digite o valor do lado de um quadrado:\"))\n",
        "area=0\n",
        "perimetro=0\n",
        "\n",
        "perimetro = lado * 4\n",
        "area = lado * lado\n",
        "\n",
        "\n",
        "print(\"perímetro:\",perimetro,\"- área:\",area)"
      ],
      "execution_count": 2,
      "outputs": [
        {
          "output_type": "stream",
          "text": [
            "Digite o valor do lado de um quadrado:5\n",
            "perímetro: 20 - área: 25\n"
          ],
          "name": "stdout"
        }
      ]
    },
    {
      "cell_type": "markdown",
      "metadata": {
        "id": "MLpAg7AuY5na"
      },
      "source": [
        "## Teste_real_02"
      ]
    },
    {
      "cell_type": "code",
      "metadata": {
        "colab": {
          "base_uri": "https://localhost:8080/"
        },
        "id": "AsT01b9lY9WK",
        "outputId": "41cde485-023a-4ddd-fab3-1189deb14f89"
      },
      "source": [
        "print('bem Vindo, este script fara o calculo de meria aritmetica de 4 notas')\n",
        "nota1 = float(input('insira o valor da nota 1: '))\n",
        "nota2 = float(input('insira o valor da nota 2: '))\n",
        "nota3 = float(input('insira o valor da nota 3: '))\n",
        "nota4 = float(input('insira o valor da nota 4: '))\n",
        "media = (nota1 + nota2 + nota3 + nota4) / 4\n",
        "print('media aritmetica e de: ', media)"
      ],
      "execution_count": 3,
      "outputs": [
        {
          "output_type": "stream",
          "text": [
            "bem Vindo, este script fara o calculo de meria aritmetica de 4 notas\n",
            "insira o valor da nota 1: 4\n",
            "insira o valor da nota 2: 5\n",
            "insira o valor da nota 3: 6\n",
            "insira o valor da nota 4: 7\n",
            "media aritmetica e de:  5.5\n"
          ],
          "name": "stdout"
        }
      ]
    },
    {
      "cell_type": "markdown",
      "metadata": {
        "id": "d5AqPHguZRx3"
      },
      "source": [
        "## Teste_real_03\n"
      ]
    },
    {
      "cell_type": "code",
      "metadata": {
        "colab": {
          "base_uri": "https://localhost:8080/"
        },
        "id": "AYSBk5JCZT2t",
        "outputId": "803e19a8-b14f-4701-8f15-5a5ac72a58cb"
      },
      "source": [
        "nome = input('Digite o nome do cliente: ')\n",
        "valor= float(input('Digite o valor da fatura:' ))\n",
        "dia = input('Digite o dia de vencimento: ')\n",
        "mes = input('Digite o mês de vencimento: ')\n",
        "print('Olá', nome)\n",
        "print('A sua fatura com vencimento em ',dia,' de ',mes,' no valor de R$ ',valor,' está fechada.')"
      ],
      "execution_count": 6,
      "outputs": [
        {
          "output_type": "stream",
          "text": [
            "Digite o nome do cliente: teste\n",
            "Digite o valor da fatura:500\n",
            "Digite o dia de vencimento: 23\n",
            "Digite o mês de vencimento: 02\n",
            "Olá teste\n",
            "A sua fatura com vencimento em  23  de  02  no valor de R$  500.0  está fechada.\n"
          ],
          "name": "stdout"
        }
      ]
    },
    {
      "cell_type": "markdown",
      "metadata": {
        "id": "2EO0tlKqaBDC"
      },
      "source": [
        "## Teste_real_04\n"
      ]
    },
    {
      "cell_type": "code",
      "metadata": {
        "colab": {
          "base_uri": "https://localhost:8080/"
        },
        "id": "yVQ98rQ6aEEw",
        "outputId": "e99ba589-3662-4ebb-d4f7-a3f9371c9a4d"
      },
      "source": [
        "nota1=float(input('digita o valor da nota 1: '))\n",
        "nota2=float(input('digite o valor da nota 2: '))\n",
        "media=(nota1+nota2)/2\n",
        "print('media alcancada:',media)\n",
        "if media >= 7:\n",
        "    print('Aprovado')\n",
        "else:\n",
        "    if media < 7:\n",
        "        print('reprovado')\n",
        "    else:\n",
        "        if media==10:\n",
        "            print('aprovado com louvor')"
      ],
      "execution_count": 9,
      "outputs": [
        {
          "output_type": "stream",
          "text": [
            "digita o valor da nota 1: 10\n",
            "digite o valor da nota 2: 10\n",
            "media alcancada: 10.0\n",
            "Aprovado\n"
          ],
          "name": "stdout"
        }
      ]
    },
    {
      "cell_type": "markdown",
      "metadata": {
        "id": "Rq_9KsIDaNzX"
      },
      "source": [
        "## Teste_real_05"
      ]
    },
    {
      "cell_type": "code",
      "metadata": {
        "colab": {
          "base_uri": "https://localhost:8080/"
        },
        "id": "HfXKIm2oaQmk",
        "outputId": "4dd9c96e-e2ab-458b-8125-f034105d2250"
      },
      "source": [
        "salario = float(input('digite o valor do salario:  '))\n",
        "\n",
        "if (salario <= 280):\n",
        "    percentual = 20\n",
        "elif (salario <= 700):\n",
        "    percentual = 15\n",
        "elif (salario <= 1500):\n",
        "    percentual = 10\n",
        "else:\n",
        "    percentual = 5\n",
        "\n",
        "print('Salario antigo: R$ ', salario)\n",
        "print('Percentual: ', percentual, '%')\n",
        "\n",
        "percentual = percentual / 100.0\n",
        "aumento = percentual * salario\n",
        "novo_salario = salario + aumento\n",
        "\n",
        "print('Valor do aumento: R$ ', aumento)\n",
        "print('Salário atualizado: R$ ', novo_salario)"
      ],
      "execution_count": 10,
      "outputs": [
        {
          "output_type": "stream",
          "text": [
            "digite o valor do salario:  500\n",
            "Salario antigo: R$  500.0\n",
            "Percentual:  15 %\n",
            "Valor do aumento: R$  75.0\n",
            "Salário atualizado: R$  575.0\n"
          ],
          "name": "stdout"
        }
      ]
    }
  ]
}